{
  "nbformat": 4,
  "nbformat_minor": 0,
  "metadata": {
    "colab": {
      "provenance": [],
      "authorship_tag": "ABX9TyMdf5XpqPbR6543CbyF+79r",
      "include_colab_link": true
    },
    "kernelspec": {
      "name": "python3",
      "display_name": "Python 3"
    },
    "language_info": {
      "name": "python"
    }
  },
  "cells": [
    {
      "cell_type": "markdown",
      "metadata": {
        "id": "view-in-github",
        "colab_type": "text"
      },
      "source": [
        "<a href=\"https://colab.research.google.com/github/Caster-16/ClaseR/blob/main/tasa_conversion1.ipynb\" target=\"_parent\"><img src=\"https://colab.research.google.com/assets/colab-badge.svg\" alt=\"Open In Colab\"/></a>"
      ]
    },
    {
      "cell_type": "code",
      "execution_count": null,
      "metadata": {
        "id": "Bi3OMNqpQDCx"
      },
      "outputs": [],
      "source": [
        "\"\"\" Creando clase de cuenta tasa dolares, moneda\n",
        "    Clase: Moneda\n",
        "    Atributos:\n",
        "      - Pais\n",
        "      - Tasa_venta\n",
        "      - Tasa_compra\n",
        "\"\"\"\n",
        "class Moneda:\n",
        "  def __init__(self,tasa_venta = 1,tasa_compra = 1):\n",
        "    self.tasa_venta = tasa_venta\n",
        "    self.tasa_compra = tasa_compra\n",
        "\n",
        "  def conversion(self,cantidad, operacion):\n",
        "    if operacion == \"dolares\":\n",
        "      return round((float(cantidad) / tasa_venta),2)\n",
        "    elif operacion == \"soles\":\n",
        "      return round((float(cantidad) * tasa_compra),2)"
      ]
    },
    {
      "cell_type": "code",
      "source": [
        "dolar = Moneda(3.537, 3.501)"
      ],
      "metadata": {
        "id": "zyIRjWe2SaeW"
      },
      "execution_count": null,
      "outputs": []
    },
    {
      "cell_type": "code",
      "source": [
        "# Bloque que se encarga de recibir los datos de usuario\n",
        "operacion = input(\"¿Quieres dolares o soles?...\").lower()\n",
        "\n",
        "try:\n",
        "  if operacion in [\"dolares\", \"dólares\"]:\n",
        "    print(\"Has elegido comprar dolares ...\")\n",
        "    cantidad = float(input(\"¿Cuantos soles quieres cambiar?...\"))\n",
        "    resultado = dolar.conversion(cantidad, \"dolares\")\n",
        "    print(f\"Recibirás {resultado} dolares\")\n",
        "\n",
        "  elif operacion in [\"soles\"]:\n",
        "    print(\"Has elegido vender dolares ...\")\n",
        "    cantidad = float(input(\"¿Cuantos dolares quieres cambiar?...\"))\n",
        "    resultado = dolar.conversion(cantidad, \"soles\")\n",
        "    print(f\"Recibirás {resultado} soles\")\n",
        "  else:\n",
        "     print(\"Ingresa una accion valida ¬¬/\")\n",
        "except ValueError:\n",
        "    print(\"Error: Ingresa una cantidad válida\")\n"
      ],
      "metadata": {
        "colab": {
          "base_uri": "https://localhost:8080/"
        },
        "id": "M8PZWO-HS7tN",
        "outputId": "f083c069-af12-4522-f70c-b9cab0578b83"
      },
      "execution_count": null,
      "outputs": [
        {
          "output_type": "stream",
          "name": "stdout",
          "text": [
            "¿Quieres dolares o soles?...dolares\n",
            "Has elegido comprar dolares ...\n",
            "¿Cuantos soles quieres cambiar?...x\n",
            "Error: Ingresa una cantidad válida\n"
          ]
        }
      ]
    },
    {
      "cell_type": "code",
      "source": [],
      "metadata": {
        "id": "Z_4_IE759ium"
      },
      "execution_count": null,
      "outputs": []
    },
    {
      "cell_type": "code",
      "source": [
        "type(usd_dolar)"
      ],
      "metadata": {
        "colab": {
          "base_uri": "https://localhost:8080/",
          "height": 104
        },
        "id": "GtSbQ9qLS-Rd",
        "outputId": "64573ce4-0f64-40bd-9e91-92180564ce3b"
      },
      "execution_count": null,
      "outputs": [
        {
          "output_type": "execute_result",
          "data": {
            "text/plain": [
              "__main__.Moneda"
            ],
            "text/html": [
              "<div style=\"max-width:800px; border: 1px solid var(--colab-border-color);\"><style>\n",
              "      pre.function-repr-contents {\n",
              "        overflow-x: auto;\n",
              "        padding: 8px 12px;\n",
              "        max-height: 500px;\n",
              "      }\n",
              "\n",
              "      pre.function-repr-contents.function-repr-contents-collapsed {\n",
              "        cursor: pointer;\n",
              "        max-height: 100px;\n",
              "      }\n",
              "    </style>\n",
              "    <pre style=\"white-space: initial; background:\n",
              "         var(--colab-secondary-surface-color); padding: 8px 12px;\n",
              "         border-bottom: 1px solid var(--colab-border-color);\"><b>Moneda</b><br/>def __init__(pais, tasa_venta=1, tasa_compra=1)</pre><pre class=\"function-repr-contents function-repr-contents-collapsed\" style=\"\"><a class=\"filepath\" style=\"display:none\" href=\"#\"></a>&lt;no docstring&gt;</pre></div>"
            ]
          },
          "metadata": {},
          "execution_count": 68
        }
      ]
    },
    {
      "cell_type": "code",
      "source": [
        "convertir_a_pen = Moneda()"
      ],
      "metadata": {
        "colab": {
          "base_uri": "https://localhost:8080/",
          "height": 141
        },
        "id": "ysiA-bvxhWlN",
        "outputId": "8d9aeb3e-f1fb-4dc6-fb43-604c19311cd9"
      },
      "execution_count": null,
      "outputs": [
        {
          "output_type": "error",
          "ename": "TypeError",
          "evalue": "Moneda.__init__() missing 1 required positional argument: 'pais'",
          "traceback": [
            "\u001b[0;31m---------------------------------------------------------------------------\u001b[0m",
            "\u001b[0;31mTypeError\u001b[0m                                 Traceback (most recent call last)",
            "\u001b[0;32m/tmp/ipython-input-9165137.py\u001b[0m in \u001b[0;36m<cell line: 0>\u001b[0;34m()\u001b[0m\n\u001b[0;32m----> 1\u001b[0;31m \u001b[0mconvertir_a_pen\u001b[0m \u001b[0;34m=\u001b[0m \u001b[0mMoneda\u001b[0m\u001b[0;34m(\u001b[0m\u001b[0;34m)\u001b[0m\u001b[0;34m\u001b[0m\u001b[0;34m\u001b[0m\u001b[0m\n\u001b[0m",
            "\u001b[0;31mTypeError\u001b[0m: Moneda.__init__() missing 1 required positional argument: 'pais'"
          ]
        }
      ]
    },
    {
      "cell_type": "code",
      "source": [
        "print(usd_dolar._tasa_venta)"
      ],
      "metadata": {
        "colab": {
          "base_uri": "https://localhost:8080/"
        },
        "id": "zQX4jK6QTDrl",
        "outputId": "634d6911-32b7-41b0-faaa-aec39b1b539e"
      },
      "execution_count": null,
      "outputs": [
        {
          "output_type": "stream",
          "name": "stdout",
          "text": [
            "3.54\n"
          ]
        }
      ]
    },
    {
      "cell_type": "code",
      "source": [
        "pen_sol.__dict__"
      ],
      "metadata": {
        "colab": {
          "base_uri": "https://localhost:8080/"
        },
        "id": "9ypckn7iX0BD",
        "outputId": "730e4534-50bb-47e5-c123-b297264ee59d"
      },
      "execution_count": null,
      "outputs": [
        {
          "output_type": "execute_result",
          "data": {
            "text/plain": [
              "{'pais': 'Peru', 'tasa_venta': 1, 'tasa_compra': 1}"
            ]
          },
          "metadata": {},
          "execution_count": 62
        }
      ]
    },
    {
      "cell_type": "code",
      "source": [
        "usd_dolar.__dict__"
      ],
      "metadata": {
        "colab": {
          "base_uri": "https://localhost:8080/"
        },
        "id": "Qd9nswGSZAaz",
        "outputId": "fbdf19cf-4934-4ec2-d310-72ba7de6382a"
      },
      "execution_count": null,
      "outputs": [
        {
          "output_type": "execute_result",
          "data": {
            "text/plain": [
              "{'pais': 'EE.UU', 'tasa_venta': 3.54, 'tasa_compra': 3.51}"
            ]
          },
          "metadata": {},
          "execution_count": 63
        }
      ]
    },
    {
      "cell_type": "code",
      "source": [
        " @property\n",
        "  def tasa_venta(self):\n",
        "    return self._tasa_venta\n",
        "\n",
        "  @tasa_venta.setter\n",
        "  def tas_venta(self,tasa_venta):\n",
        "    self._tasa_venta = tasa_venta\n",
        "\n",
        "  @property\n",
        "  def tasa_compra(self):\n",
        "    return self._tasa_compra\n",
        "\n",
        " @tasa_compra.setter\n",
        "  def tasa_compraa(self,tasa_compra):\n",
        "    self._tasa_compra = tasa_compra"
      ],
      "metadata": {
        "id": "zEgxXvmgaQqi"
      },
      "execution_count": null,
      "outputs": []
    },
    {
      "cell_type": "code",
      "source": [],
      "metadata": {
        "id": "wNTmUQDsaQnF"
      },
      "execution_count": null,
      "outputs": []
    },
    {
      "cell_type": "code",
      "source": [
        "1 dolar == 3.50 soles (tasa de compra, la casa te compra el dolar por 3.50)\n",
        "3.537 soles == 1 dolar (tasa de venta, la casa te vende el dolara por 3.537)\n",
        "1sol == 0.28 dolar"
      ],
      "metadata": {
        "id": "f7yO1LcGaQk7",
        "colab": {
          "base_uri": "https://localhost:8080/",
          "height": 106
        },
        "outputId": "0589d1b7-04fc-4a7c-ce3a-fd4141ba3dd0"
      },
      "execution_count": null,
      "outputs": [
        {
          "output_type": "error",
          "ename": "SyntaxError",
          "evalue": "invalid decimal literal (ipython-input-1256541349.py, line 3)",
          "traceback": [
            "\u001b[0;36m  File \u001b[0;32m\"/tmp/ipython-input-1256541349.py\"\u001b[0;36m, line \u001b[0;32m3\u001b[0m\n\u001b[0;31m    1sol\u001b[0m\n\u001b[0m    ^\u001b[0m\n\u001b[0;31mSyntaxError\u001b[0m\u001b[0;31m:\u001b[0m invalid decimal literal\n"
          ]
        }
      ]
    },
    {
      "cell_type": "markdown",
      "source": [
        "Logica que se deberia seguir\n",
        " > quiero dolares: (\"accion de comprar dolares\" => la casa vende sus dolares, usamos **tasa de venta** )\n",
        "\n",
        " > quiero soles: (\"accion de vender dolares\" => la casa compra tus dolares, usamos **tasa de compra**)\n",
        "\n",
        " * cuando quieres dolares, la casa te vende dolares a su tasa de venta de 3.537\n",
        " * cuando quieres soles, la casa compra dolares a su tasa de compra de 3.50\n",
        "\n",
        "> variacion entre tasa de compra y venta = spreed  "
      ],
      "metadata": {
        "id": "y1gEOzbZgsFL"
      }
    },
    {
      "cell_type": "code",
      "source": [
        "convierte = input(\"soles a convertir>... \")\n",
        "x = 3.537\n",
        "y = round((float(convierte) / x),2)\n",
        "print(\"Recibes \", y, \"dolares\")"
      ],
      "metadata": {
        "id": "4rNnndQ8aQgJ",
        "colab": {
          "base_uri": "https://localhost:8080/"
        },
        "outputId": "a0c8b5f1-bf44-4cc6-bafc-589e9f878bb1"
      },
      "execution_count": null,
      "outputs": [
        {
          "output_type": "stream",
          "name": "stdout",
          "text": [
            "soles a convertir>... 10\n",
            "Recibes  2.83 dolares\n"
          ]
        }
      ]
    },
    {
      "cell_type": "code",
      "source": [
        "convierte = input(\"dolares a convertir>...\")\n",
        "x = 3.50\n",
        "y = round((float(convierte) * x),2)\n",
        "print(\"Recibes \", y, \"dolares\")"
      ],
      "metadata": {
        "id": "KRRdUKJAaQdm",
        "colab": {
          "base_uri": "https://localhost:8080/"
        },
        "outputId": "9c7c9825-6537-4689-fe85-1cea4b098124"
      },
      "execution_count": null,
      "outputs": [
        {
          "output_type": "stream",
          "name": "stdout",
          "text": [
            "dolares a convertir>...10\n",
            "Recibes  35.0 dolares\n"
          ]
        }
      ]
    },
    {
      "cell_type": "markdown",
      "source": [
        "Basandonos en la logica anterior:\n",
        "* Entendimos que:\n",
        "  > para la conversion de sol a dolar, hay que dividir el monto entre la tasa de venta.\n",
        "\n",
        "  > para la conversion de dolar a sol, hay que multiplicar el monto por la tasa de compra"
      ],
      "metadata": {
        "id": "JoaJV0SwjcFM"
      }
    },
    {
      "cell_type": "code",
      "source": [
        "# Establecer la manera de intercambiar la operacion de compra / venta\n",
        "work = input(\"compra o venta? ...\")\n",
        "\n",
        "# ponemos condicionales para la eleccion.\n",
        "# el condicional debe conciderar las posibles formas de escribir del usuario\n",
        "# poniendo estas dentro de la lista posible\n",
        "if work in list([\"compra\", \"COMPRA\", \"Compra\"]):\n",
        "  print(\"has elegido comprar dolares ...\")\n",
        "elif work in list([\"venta\", \"Venta\", \"VENTA\"]):\n",
        "  print(\"has elegido vender dolares ...\")\n",
        "else:\n",
        "  print(\"Ingresa una accion valida ¬¬/\")"
      ],
      "metadata": {
        "colab": {
          "base_uri": "https://localhost:8080/"
        },
        "id": "wqN6b2_zjxgk",
        "outputId": "4411a8aa-8f55-40fe-c90b-24a926f42679"
      },
      "execution_count": null,
      "outputs": [
        {
          "output_type": "stream",
          "name": "stdout",
          "text": [
            "compra o venta? ...skdksd\n",
            "Ingresa una accion valida ¬¬/\n"
          ]
        }
      ]
    },
    {
      "cell_type": "code",
      "source": [
        "# Enlazar la accion elegida con el monto a convertir\n",
        "#Bloque de eleccion de accion\n",
        "tasa_venta = 3.537\n",
        "tasa_compra = 3.501\n",
        "work = input(\"compra o venta?...\")\n",
        "if work in list([\"compra\", \"COMPRA\", \"Compra\"]):\n",
        "  print(\"has elegido comprar dolares ...\")\n",
        "  conv = input(\"ingresa monto...\")\n",
        "  y = round((float(conv) / tasa_venta),2)\n",
        "  print(\"Recibes \", y, \"dolares\")\n",
        "\n",
        "elif work in list([\"venta\", \"Venta\", \"VENTA\"]):\n",
        "  print(\"has elegido vender dolares ...\")\n",
        "  conv = input(\"ingresa monto...\")\n",
        "  z = round((float(conv) * tasa_compra),2)\n",
        "  print(\"Recibes \", z, \"dolares\")\n",
        "else:\n",
        "  print(\"Ingresa una accion valida ¬¬/\")\n",
        "\n",
        "#Bloque del monto a convertir\n",
        "\n",
        "\n",
        "#convierte = input(\"soles a convertir>... \")\n",
        "#x = 3.537\n",
        "#y = round((float(convierte) / x),2)\n",
        "#print(\"Recibes \", y, \"dolares\")\n",
        "#convierte = input(\"dolares a convertir>...\")\n",
        "#x = 3.50\n",
        "#y = round((float(convierte) * x),2)\n",
        "#print(\"Recibes \", y, \"dolares\")\n"
      ],
      "metadata": {
        "colab": {
          "base_uri": "https://localhost:8080/"
        },
        "id": "J1pvHcuVoLTT",
        "outputId": "ab531081-f012-4192-e66f-030da44f58da"
      },
      "execution_count": null,
      "outputs": [
        {
          "output_type": "stream",
          "name": "stdout",
          "text": [
            "compra o venta?...compra\n",
            "has elegido comprar dolares ...\n",
            "ingresa monto...10.5\n",
            "Recibes  2.97 dolares\n"
          ]
        }
      ]
    },
    {
      "cell_type": "code",
      "source": [
        "tasa_venta = 3.537\n",
        "tasa_compra = 3.501\n",
        "work = input(\"¿Quieres dolares o soles?...\")\n",
        "\n",
        "if work in list([\"dolares\", \"Dolares\", \"DOLARES\"]):\n",
        "  print(\"has elegido comprar dolares ...\")\n",
        "  conv = float(input(\"¿Cuantos soles quieres cambiar?...\"))\n",
        "  if not isinstance (conv, float):\n",
        "    raise ValueError(\"monto ingresado no es correcto\")\n",
        "  y = round((conv / tasa_venta),2)\n",
        "  print(\"Recibiras\", y, \"dolares\")\n",
        "\n",
        "elif work in list([\"Soles\", \"SOLES\", \"soles\"]):\n",
        "  print(\"has elegido vender dolares ...\")\n",
        "  conv = input(\"¿Cuantos dolares quieres cambiar?...\")\n",
        "  z = round((float(conv) * tasa_compra),2)\n",
        "  print(\"Recibiras \", z, \"soles\")\n",
        "else:\n",
        "  print(\"Ingresa una accion valida ¬¬/\")"
      ],
      "metadata": {
        "colab": {
          "base_uri": "https://localhost:8080/",
          "height": 263
        },
        "id": "-HSaiPIowt3F",
        "outputId": "3ae4ac3b-f74f-498c-ea0a-b66a2e60a671"
      },
      "execution_count": null,
      "outputs": [
        {
          "name": "stdout",
          "output_type": "stream",
          "text": [
            "¿Quieres dolares o soles?...dolares\n",
            "has elegido comprar dolares ...\n",
            "¿Cuantos soles quieres cambiar?...x\n"
          ]
        },
        {
          "output_type": "error",
          "ename": "ValueError",
          "evalue": "could not convert string to float: 'x'",
          "traceback": [
            "\u001b[0;31m---------------------------------------------------------------------------\u001b[0m",
            "\u001b[0;31mValueError\u001b[0m                                Traceback (most recent call last)",
            "\u001b[0;32m/tmp/ipython-input-3930119293.py\u001b[0m in \u001b[0;36m<cell line: 0>\u001b[0;34m()\u001b[0m\n\u001b[1;32m      5\u001b[0m \u001b[0;32mif\u001b[0m \u001b[0mwork\u001b[0m \u001b[0;32min\u001b[0m \u001b[0mlist\u001b[0m\u001b[0;34m(\u001b[0m\u001b[0;34m[\u001b[0m\u001b[0;34m\"dolares\"\u001b[0m\u001b[0;34m,\u001b[0m \u001b[0;34m\"Dolares\"\u001b[0m\u001b[0;34m,\u001b[0m \u001b[0;34m\"DOLARES\"\u001b[0m\u001b[0;34m]\u001b[0m\u001b[0;34m)\u001b[0m\u001b[0;34m:\u001b[0m\u001b[0;34m\u001b[0m\u001b[0;34m\u001b[0m\u001b[0m\n\u001b[1;32m      6\u001b[0m   \u001b[0mprint\u001b[0m\u001b[0;34m(\u001b[0m\u001b[0;34m\"has elegido comprar dolares ...\"\u001b[0m\u001b[0;34m)\u001b[0m\u001b[0;34m\u001b[0m\u001b[0;34m\u001b[0m\u001b[0m\n\u001b[0;32m----> 7\u001b[0;31m   \u001b[0mconv\u001b[0m \u001b[0;34m=\u001b[0m \u001b[0mfloat\u001b[0m\u001b[0;34m(\u001b[0m\u001b[0minput\u001b[0m\u001b[0;34m(\u001b[0m\u001b[0;34m\"¿Cuantos soles quieres cambiar?...\"\u001b[0m\u001b[0;34m)\u001b[0m\u001b[0;34m)\u001b[0m\u001b[0;34m\u001b[0m\u001b[0;34m\u001b[0m\u001b[0m\n\u001b[0m\u001b[1;32m      8\u001b[0m   \u001b[0;32mif\u001b[0m \u001b[0;32mnot\u001b[0m \u001b[0misinstance\u001b[0m \u001b[0;34m(\u001b[0m\u001b[0mconv\u001b[0m\u001b[0;34m,\u001b[0m \u001b[0mfloat\u001b[0m\u001b[0;34m)\u001b[0m\u001b[0;34m:\u001b[0m\u001b[0;34m\u001b[0m\u001b[0;34m\u001b[0m\u001b[0m\n\u001b[1;32m      9\u001b[0m     \u001b[0;32mraise\u001b[0m \u001b[0mValueError\u001b[0m\u001b[0;34m(\u001b[0m\u001b[0;34m\"monto ingresado no es correcto\"\u001b[0m\u001b[0;34m)\u001b[0m\u001b[0;34m\u001b[0m\u001b[0;34m\u001b[0m\u001b[0m\n",
            "\u001b[0;31mValueError\u001b[0m: could not convert string to float: 'x'"
          ]
        }
      ]
    },
    {
      "cell_type": "code",
      "source": [
        "# Adaptamos las palabras compra / venta por algo más intuitivo\n",
        "\n",
        "tasa_venta = 3.537\n",
        "tasa_compra = 3.501\n",
        "accion = input(\"¿Quieres dolares o soles?...\").lower()\n",
        "try:\n",
        "  if accion in [\"dolares\", \"dólares\"]:\n",
        "    print(\"Has elegido comprar dolares ...\")\n",
        "    conv = float(input(\"¿Cuantos soles quieres cambiar?...\"))\n",
        "    y = round((conv / tasa_venta),2)\n",
        "    print(f\"Recibirás {y} dolares\")\n",
        "\n",
        "  elif accion in [\"soles\"]:\n",
        "    print(\"Has elegido vender dolares ...\")\n",
        "    conv = float(input(\"¿Cuantos dolares quieres cambiar?...\"))\n",
        "    z = round((conv * tasa_compra),2)\n",
        "    print(f\"Recibirás {z} soles\")\n",
        "  else:\n",
        "    print(\"Ingresa una accion valida ¬¬/\")\n",
        "except ValueError as e:\n",
        "  print(\"Ocurrio un error, tu monto ingresado no es correcto.\")\n"
      ],
      "metadata": {
        "colab": {
          "base_uri": "https://localhost:8080/"
        },
        "id": "BHRWxSnLoLPr",
        "outputId": "096e2aa6-d019-42fe-ae8e-8282fca2cd4b"
      },
      "execution_count": null,
      "outputs": [
        {
          "output_type": "stream",
          "name": "stdout",
          "text": [
            "¿Quieres dolares o soles?...dolares\n",
            "Has elegido comprar dolares ...\n",
            "¿Cuantos soles quieres cambiar?...0.1\n",
            "Recibirás 0.03 dolares\n"
          ]
        }
      ]
    },
    {
      "cell_type": "code",
      "source": [
        "tasa_venta = 3.537\n",
        "tasa_compra = 3.501\n",
        "\n",
        "def conversion(cantidad, operacion):\n",
        "    if operacion == \"dolares\":\n",
        "      return float(cantidad) / tasa_venta\n",
        "    elif operacion == \"soles\":\n",
        "      return float(cantidad) * tasa_compra\n",
        "\n",
        "\n",
        "operacion = input(\"¿Quieres dolares o soles?...\").lower()\n",
        "\n",
        "try:\n",
        "  if operacion in [\"dolares\", \"dólares\"]:\n",
        "    print(\"Has elegido comprar dolares ...\")\n",
        "    cantidad = float(input(\"¿Cuantos soles quieres cambiar?...\"))\n",
        "    resultado = round(conversion(cantidad, \"dolares\"),2)\n",
        "    #y = round((conv / tasa_venta),2)\n",
        "    print(f\"Recibirás {resultado} dolares\")\n",
        "\n",
        "  elif operacion in [\"soles\"]:\n",
        "    print(\"Has elegido vender dolares ...\")\n",
        "    cantidad = float(input(\"¿Cuantos dolares quieres cambiar?...\"))\n",
        "    resultado = round(conversion(cantidad, \"soles\"),2)\n",
        "    #z = round((conv * tasa_compra),2)\n",
        "    print(f\"Recibirás {resultado} soles\")\n",
        "  else:\n",
        "    print(\"Ingresa una accion valida ¬¬/\")\n",
        "except ValueError as e:\n",
        "  print(\"Ocurrio un error, tu monto ingresado no es correcto.\")"
      ],
      "metadata": {
        "id": "EQlPHbwYZrcv"
      },
      "execution_count": null,
      "outputs": []
    },
    {
      "cell_type": "markdown",
      "source": [
        "# Tatar de lanzar como app"
      ],
      "metadata": {
        "id": "q__GCxFpJaGb"
      }
    },
    {
      "cell_type": "code",
      "source": [
        "pip install PySimpleGUI\n",
        "import PySimpleGUI as sg\n",
        "\n",
        "class Moneda:\n",
        "    def __init__(self, tasa_venta=1, tasa_compra=1):\n",
        "        self.tasa_venta = tasa_venta\n",
        "        self.tasa_compra = tasa_compra\n",
        "\n",
        "    def conversion(self, cantidad, operacion):\n",
        "        if operacion == \"dolares\":\n",
        "            return round(float(cantidad) / self.tasa_venta, 2)\n",
        "        elif operacion == \"soles\":\n",
        "            return round(float(cantidad) * self.tasa_compra, 2)\n",
        "        else:\n",
        "            raise ValueError(\"Operación no válida\")\n",
        "\n",
        "# Crear instancia\n",
        "dolar = Moneda(3.537, 3.501)\n",
        "\n",
        "# Tema de la interfaz\n",
        "sg.theme('DarkBlue3')\n",
        "\n",
        "# Diseño de la interfaz\n",
        "layout = [\n",
        "    [sg.Text('💱 CONVERSOR DE MONEDAS', font=('Arial', 16), justification='center')],\n",
        "    [sg.HorizontalSeparator()],\n",
        "    [sg.Text('Selecciona la operación:')],\n",
        "    [sg.Radio('Comprar Dólares (Soles → USD)', 'OPERACION', key='dolares', default=True)],\n",
        "    [sg.Radio('Vender Dólares (USD → Soles)', 'OPERACION', key='soles')],\n",
        "    [sg.Text('Monto a convertir:')],\n",
        "    [sg.InputText(key='monto', size=(20, 1))],\n",
        "    [sg.Button('Convertir', size=(10, 1)), sg.Button('Salir', size=(10, 1))],\n",
        "    [sg.Text('Resultado:', font=('Arial', 12))],\n",
        "    [sg.Text('', key='resultado', font=('Arial', 14), text_color='yellow', size=(30, 1))]\n",
        "]\n",
        "\n",
        "# Crear ventana\n",
        "window = sg.Window('Conversor de Monedas', layout, element_justification='center')\n",
        "\n",
        "# Loop de la aplicación\n",
        "while True:\n",
        "    event, values = window.read()\n",
        "\n",
        "    # Salir de la aplicación\n",
        "    if event == sg.WIN_CLOSED or event == 'Salir':\n",
        "        break\n",
        "\n",
        "    # Convertir moneda\n",
        "    if event == 'Convertir':\n",
        "        try:\n",
        "            # Determinar la operación\n",
        "            if values['dolares']:\n",
        "                operacion = 'dolares'\n",
        "                moneda_origen = 'soles'\n",
        "                moneda_destino = 'dólares'\n",
        "            else:\n",
        "                operacion = 'soles'\n",
        "                moneda_origen = 'dólares'\n",
        "                moneda_destino = 'soles'\n",
        "\n",
        "            # Obtener y validar monto\n",
        "            cantidad = float(values['monto'])\n",
        "            if cantidad <= 0:\n",
        "                sg.popup_error('El monto debe ser mayor a 0')\n",
        "                continue\n",
        "\n",
        "            # Realizar conversión\n",
        "            resultado = dolar.conversion(cantidad, operacion)\n",
        "\n",
        "            # Mostrar resultado\n",
        "            window['resultado'].update(f'{resultado} {moneda_destino}')\n",
        "\n",
        "        except ValueError:\n",
        "            sg.popup_error('Error: Ingresa un monto válido')\n",
        "        except Exception as e:\n",
        "            sg.popup_error(f'Error inesperado: {e}')\n",
        "\n",
        "# Cerrar ventana\n",
        "window.close()"
      ],
      "metadata": {
        "id": "Hfgwc25gZrZ9",
        "colab": {
          "base_uri": "https://localhost:8080/",
          "height": 106
        },
        "outputId": "47bd0ea3-aa67-4174-988c-5e365f8e8025"
      },
      "execution_count": null,
      "outputs": [
        {
          "output_type": "error",
          "ename": "SyntaxError",
          "evalue": "invalid syntax (ipython-input-90590067.py, line 1)",
          "traceback": [
            "\u001b[0;36m  File \u001b[0;32m\"/tmp/ipython-input-90590067.py\"\u001b[0;36m, line \u001b[0;32m1\u001b[0m\n\u001b[0;31m    pip install PySimpleGUI\u001b[0m\n\u001b[0m        ^\u001b[0m\n\u001b[0;31mSyntaxError\u001b[0m\u001b[0;31m:\u001b[0m invalid syntax\n"
          ]
        }
      ]
    },
    {
      "cell_type": "code",
      "source": [],
      "metadata": {
        "id": "H7D4_CqYZrXk"
      },
      "execution_count": null,
      "outputs": []
    },
    {
      "cell_type": "code",
      "source": [],
      "metadata": {
        "id": "UE4c3apqZrUw"
      },
      "execution_count": null,
      "outputs": []
    }
  ]
}